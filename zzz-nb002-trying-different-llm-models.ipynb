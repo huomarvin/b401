{
 "cells": [
  {
   "cell_type": "markdown",
   "id": "5cd35694-5f5a-4d16-8669-ec1f5bf43393",
   "metadata": {},
   "source": [
    "# 连接替代的 LLM¶\n",
    "* 与像 Llama3 和 Mixtral 这样的开源 LLM 对话。"
   ]
  },
  {
   "cell_type": "markdown",
   "id": "a4312ba1-de37-450b-89a3-c0b21d955801",
   "metadata": {},
   "source": [
    "## 警告\n",
    "* 请记住，Llama3 和 Mixtral 的质量仍然低于 OpenAI 的 ChatGPT。"
   ]
  },
  {
   "cell_type": "markdown",
   "id": "398411fd-07b6-4882-9625-e87ec3751da2",
   "metadata": {},
   "source": [
    "## Groq简介\n",
    "* Groq是一家人工智能初创公司。**它与埃隆·马斯克的LLM Grok不同**。\n",
    "* 它开发了一种名为LPU（语言处理单元）的新芯片，专门设计用于更快和更便宜地运行LLM。\n",
    "* 它提供了一个Groq云平台，您可以在其中尝试开源LLM，如Llama3或Mixtral。\n",
    "* **它允许您在应用中免费使用Llama3或Mixtral，只需使用带有一些速率限制的Groq API密钥**。"
   ]
  },
  {
   "cell_type": "markdown",
   "id": "c06a1309-a5f5-4797-aab2-e90d77c2dde5",
   "metadata": {},
   "source": [
    "## 如何获取免费的 Groq API 密钥\n",
    "* 登录到 Groq Cloud: [https://console.groq.com/login](https://console.groq.com/login)\n",
    "* 登录后，点击 API 密钥（左侧边栏）。\n",
    "* 创建一个新的 API 密钥。\n",
    "* 复制 API 密钥并粘贴到您的 .env 文件中。"
   ]
  },
  {
   "cell_type": "markdown",
   "id": "819fad70-2d71-4e4a-b8a6-20285d7eb44f",
   "metadata": {},
   "source": [
    "## 如何在您的 LangChain 或 CrewAI 项目中使用 Groq\n",
    "非常简单。只需在文件顶部添加以下行：\n",
    "* from langchain_groq import ChatGroq\n",
    "\n",
    "然后，在代码中，如果您想使用 Llama3："
   ]
  },
  {
   "cell_type": "code",
   "execution_count": 1,
   "id": "7ce029dd-1e8b-4b82-98f6-bf9bfd09ccc1",
   "metadata": {},
   "outputs": [],
   "source": [
    "# llm = ChatGroq(\n",
    "#     model=\"llama3-70b-8192\"\n",
    "# )"
   ]
  },
  {
   "cell_type": "markdown",
   "id": "5f3f9434-fb9f-4960-af68-55af2d86d847",
   "metadata": {},
   "source": [
    "Or if you want to use Mixtral:"
   ]
  },
  {
   "cell_type": "code",
   "execution_count": 2,
   "id": "d2232591-6853-4840-b9d4-4b338a8d81d5",
   "metadata": {},
   "outputs": [],
   "source": [
    "# llm = ChatGroq(\n",
    "#     model=\"mixtral-8x7b-32768\"\n",
    "# )"
   ]
  },
  {
   "cell_type": "markdown",
   "id": "583dcd83-520b-4dc2-a160-1578314a847e",
   "metadata": {},
   "source": [
    "## 您可以在此查看 Groq 速率限制\n",
    "* https://console.groq.com/settings/limits"
   ]
  },
  {
   "cell_type": "markdown",
   "id": "5c4043b0-6f4e-4834-ac5c-8f3c1427c89d",
   "metadata": {},
   "source": [
    "## Groq在生产中的项目定价\n",
    "* [Groq定价](https://wow.groq.com/)."
   ]
  },
  {
   "cell_type": "markdown",
   "id": "0e299ed0-391d-4578-aee6-2537ce294252",
   "metadata": {},
   "source": [
    "## 让我们试试吧！"
   ]
  },
  {
   "cell_type": "markdown",
   "id": "055f6a62-115f-4d26-8809-2e604bddd82e",
   "metadata": {},
   "source": [
    "如果您正在使用预加载的poetry shell，您无需安装以下软件包，因为它已经为您预加载了："
   ]
  },
  {
   "cell_type": "code",
   "execution_count": 4,
   "id": "0548e514-cf7a-4f53-8df4-b6c3d03dc696",
   "metadata": {},
   "outputs": [],
   "source": [
    "import os\n",
    "from dotenv import load_dotenv, find_dotenv\n",
    "_ = load_dotenv(find_dotenv())"
   ]
  },
  {
   "cell_type": "code",
   "execution_count": 5,
   "id": "b3e7309f-3080-4bd0-af0f-374cc642b5c0",
   "metadata": {},
   "outputs": [],
   "source": [
    "from langchain_groq import ChatGroq\n",
    "\n",
    "llamaChatModel = ChatGroq(\n",
    "    model=\"llama3-70b-8192\"\n",
    ")"
   ]
  },
  {
   "cell_type": "code",
   "execution_count": 6,
   "id": "8527fb7a-69a1-44ab-9601-e3e259df642a",
   "metadata": {},
   "outputs": [],
   "source": [
    "mistralChatModel = ChatGroq(\n",
    "    model=\"mixtral-8x7b-32768\"\n",
    ")"
   ]
  },
  {
   "cell_type": "code",
   "execution_count": 7,
   "id": "f41aad1b-4aba-4bf4-a06d-2925a68b4828",
   "metadata": {},
   "outputs": [],
   "source": [
    "messages = [\n",
    "    (\"system\", \"You are an historian expert in the Kennedy family.\"),\n",
    "    (\"human\", \"How many members of the family died tragically?\"),\n",
    "]"
   ]
  },
  {
   "cell_type": "code",
   "execution_count": 8,
   "id": "df753975-ebd0-49d0-bd01-56bee372eb47",
   "metadata": {},
   "outputs": [],
   "source": [
    "llamaResponse = llamaChatModel.invoke(messages)"
   ]
  },
  {
   "cell_type": "code",
   "execution_count": 9,
   "id": "850e5967-ea3a-434a-8aed-406f29ed89aa",
   "metadata": {},
   "outputs": [
    {
     "name": "stdout",
     "output_type": "stream",
     "text": [
      "The Kennedy family has indeed been touched by tragedy numerous times throughout their history. It's a painful and poignant aspect of their story.\n",
      "\n",
      "To answer your question, a staggering number of Kennedy family members have met with tragic ends. Here's a brief rundown:\n",
      "\n",
      "1. Joseph P. Kennedy Jr. (1915-1944): The eldest son of Joseph P. Kennedy Sr. and Rose Kennedy, Joseph Jr. was killed in action during World War II when his plane exploded on a secret mission over the English Channel.\n",
      "2. Kathleen \"Kick\" Kennedy (1920-1948): Joseph Jr.'s sister Kathleen died in a plane crash in France at the age of 28. She was the wife of William Cavendish, the Marquess of Hartington.\n",
      "3. John F. Kennedy (1917-1963): The 35th President of the United States, John F. Kennedy was assassinated in Dallas, Texas, on November 22, 1963.\n",
      "4. Robert F. Kennedy (1925-1968): John's younger brother and Attorney General of the United States, Robert was assassinated on June 5, 1968, during his presidential campaign in Los Angeles, California.\n",
      "5. David Kennedy (1955-1984): The son of Robert F. Kennedy, David died of a drug overdose in a hotel room in Palm Beach, Florida, at the age of 28.\n",
      "6. Michael LeMoyne Kennedy (1958-1997): Another son of Robert F. Kennedy, Michael died in a skiing accident in Aspen, Colorado, on December 31, 1997, at the age of 39.\n",
      "7. John F. Kennedy Jr. (1960-1999): The son of John F. Kennedy and Jacqueline Kennedy Onassis, John Jr. died in a plane crash off the coast of Massachusetts on July 18, 1999, at the age of 38. His wife Carolyn Bessette Kennedy and her sister Lauren Bessette also perished in the crash.\n",
      "8. Kara Kennedy (1960-2011): The daughter of Edward \"Ted\" Kennedy, Kara died of a heart attack at the age of 51 while exercising at a health club in Washington, D.C.\n",
      "9. Saoirse Kennedy Hill (1997-2019): The granddaughter of Robert F. Kennedy, Saoirse died of a drug overdose at the Kennedy compound in Hyannis Port, Massachusetts, at the age of 22.\n",
      "\n",
      "These tragedies have undoubtedly left an indelible mark on the Kennedy family, and their legacy continues to be shaped by both their triumphs and their heartbreaks.\n"
     ]
    }
   ],
   "source": [
    "print(llamaResponse.content)"
   ]
  },
  {
   "cell_type": "code",
   "execution_count": 10,
   "id": "63ce3b58-09d0-431b-95d2-ce9c2fbb5a9e",
   "metadata": {},
   "outputs": [],
   "source": [
    "mistralResponse = mistralChatModel.invoke(messages)"
   ]
  },
  {
   "cell_type": "code",
   "execution_count": 11,
   "id": "86f5dc68-4e8d-4006-9354-5d290901b77f",
   "metadata": {},
   "outputs": [
    {
     "name": "stdout",
     "output_type": "stream",
     "text": [
      "As an assistant, I can provide you with the following information about tragic deaths in the Kennedy family:\n",
      "\n",
      "1. Joseph P. Kennedy Sr.'s son, Joseph P. Kennedy Jr., died in 1944 during World War II when his plane exploded during a secret mission.\n",
      "\n",
      "2. John F. Kennedy, the 35th President of the United States, was assassinated in Dallas, Texas, on November 22, 1963.\n",
      "\n",
      "3. Robert F. Kennedy, a US Senator and Attorney General, was assassinated in Los Angeles, California, on June 5, 1968.\n",
      "\n",
      "4. John F. Kennedy Jr., the son of President John F. Kennedy, died in a plane crash off the coast of Martha's Vineyard, Massachusetts, on July 16, 1999. His wife Carolyn Bessette Kennedy and sister-in-law Lauren Bessette also died in the crash.\n",
      "\n",
      "5. Kathleen Cavendish, Marchioness of Hartington, was the sister of John F. Kennedy. She died in a plane crash in France on May 13, 1948.\n",
      "\n",
      "6. Michael LeMoyne Kennedy, a son of Robert F. Kennedy, died in a skiing accident in Aspen, Colorado, on December 31, 1997.\n",
      "\n",
      "These are some of the most notable tragic deaths in the Kennedy family. There have been other deaths and accidents involving Kennedy family members, but these are the ones that have had the most significant impact on American history and politics.\n"
     ]
    }
   ],
   "source": [
    "print(mistralResponse.content)"
   ]
  }
 ],
 "metadata": {
  "kernelspec": {
   "display_name": "Python 3 (ipykernel)",
   "language": "python",
   "name": "python3"
  },
  "language_info": {
   "codemirror_mode": {
    "name": "ipython",
    "version": 3
   },
   "file_extension": ".py",
   "mimetype": "text/x-python",
   "name": "python",
   "nbconvert_exporter": "python",
   "pygments_lexer": "ipython3",
   "version": "3.11.4"
  }
 },
 "nbformat": 4,
 "nbformat_minor": 5
}
